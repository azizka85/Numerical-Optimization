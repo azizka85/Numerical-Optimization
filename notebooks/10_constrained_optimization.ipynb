{
 "cells": [
  {
   "cell_type": "markdown",
   "id": "68e25f8c",
   "metadata": {},
   "source": [
    "# Constrained Optimization"
   ]
  },
  {
   "cell_type": "markdown",
   "id": "4197a666",
   "metadata": {},
   "source": [
    "##### Example #1\n",
    "\n",
    "$$\n",
    "\\min x_1 + x_2, \\quad \\text{subject to} \\quad\n",
    "\\left\\{\n",
    "\\begin{array}{l}\n",
    "2 - x_1^2 - x_2^2 \\geq 0 \\\\\n",
    "x_2 \\geq 0\n",
    "\\end{array}\n",
    "\\right.\n",
    "$$"
   ]
  },
  {
   "cell_type": "code",
   "execution_count": 3,
   "id": "8152515f",
   "metadata": {},
   "outputs": [
    {
     "data": {
      "text/plain": [
       "     message: Optimization terminated successfully\n",
       "     success: True\n",
       "      status: 0\n",
       "         fun: -1.4142135623746643\n",
       "           x: [-1.414e+00 -4.441e-16]\n",
       "         nit: 6\n",
       "         jac: [ 1.000e+00  1.000e+00]\n",
       "        nfev: 18\n",
       "        njev: 6\n",
       " multipliers: [ 3.536e-01  1.000e+00]"
      ]
     },
     "execution_count": 3,
     "metadata": {},
     "output_type": "execute_result"
    }
   ],
   "source": [
    "from scipy.optimize import minimize\n",
    "\n",
    "f = lambda x: x[0] + x[1]\n",
    "\n",
    "c = [\n",
    "    {'type': 'ineq', 'fun': lambda x: 2 - x[0]**2 - x[1]**2},\n",
    "    {'type': 'ineq', 'fun': lambda x: x[1]}\n",
    "]\n",
    "\n",
    "res = minimize(f, [0, 0], method='SLSQP', constraints=c)\n",
    "\n",
    "res\n"
   ]
  },
  {
   "cell_type": "markdown",
   "id": "eda845f8",
   "metadata": {},
   "source": [
    "##### Example #2\n",
    "\n",
    "$$\n",
    "\\min x_1 + x_2, \\quad \\text{subject to} \\quad 2 - x_1^2 - x_2^2 = 0\n",
    "$$"
   ]
  },
  {
   "cell_type": "code",
   "execution_count": 4,
   "id": "2a61d434",
   "metadata": {},
   "outputs": [
    {
     "data": {
      "text/plain": [
       "     message: Optimization terminated successfully\n",
       "     success: True\n",
       "      status: 0\n",
       "         fun: 2.000000000020318\n",
       "           x: [ 1.000e+00  1.000e+00]\n",
       "         nit: 6\n",
       "         jac: [ 1.000e+00  1.000e+00]\n",
       "        nfev: 26\n",
       "        njev: 6\n",
       " multipliers: [-5.000e-01]"
      ]
     },
     "execution_count": 4,
     "metadata": {},
     "output_type": "execute_result"
    }
   ],
   "source": [
    "f = lambda x: x[0] + x[1]\n",
    "\n",
    "c = [\n",
    "    {'type': 'eq', 'fun': lambda x: 2 - x[0]**2 - x[1]**2}\n",
    "]\n",
    "\n",
    "res = minimize(f, [0, 0], method='SLSQP', constraints=c)\n",
    "\n",
    "res\n"
   ]
  },
  {
   "cell_type": "code",
   "execution_count": 5,
   "id": "03cc7e38",
   "metadata": {},
   "outputs": [
    {
     "data": {
      "text/plain": [
       "     message: Optimization terminated successfully\n",
       "     success: True\n",
       "      status: 0\n",
       "         fun: -2.0000000000201914\n",
       "           x: [-1.000e+00 -1.000e+00]\n",
       "         nit: 10\n",
       "         jac: [ 1.000e+00  1.000e+00]\n",
       "        nfev: 39\n",
       "        njev: 10\n",
       " multipliers: [ 5.000e-01]"
      ]
     },
     "execution_count": 5,
     "metadata": {},
     "output_type": "execute_result"
    }
   ],
   "source": [
    "f = lambda x: x[0] + x[1]\n",
    "\n",
    "c = [\n",
    "    {'type': 'eq', 'fun': lambda x: 2 - x[0]**2 - x[1]**2}\n",
    "]\n",
    "\n",
    "res = minimize(f, [-0.000001, 0], method='SLSQP', constraints=c)\n",
    "\n",
    "res\n"
   ]
  }
 ],
 "metadata": {
  "kernelspec": {
   "display_name": ".venv",
   "language": "python",
   "name": "python3"
  },
  "language_info": {
   "codemirror_mode": {
    "name": "ipython",
    "version": 3
   },
   "file_extension": ".py",
   "mimetype": "text/x-python",
   "name": "python",
   "nbconvert_exporter": "python",
   "pygments_lexer": "ipython3",
   "version": "3.13.4"
  }
 },
 "nbformat": 4,
 "nbformat_minor": 5
}
