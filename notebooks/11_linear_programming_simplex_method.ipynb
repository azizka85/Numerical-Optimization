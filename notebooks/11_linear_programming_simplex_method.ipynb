{
 "cells": [
  {
   "cell_type": "markdown",
   "id": "dabd28cd",
   "metadata": {},
   "source": [
    "# Linear Programming: The Simplex Method"
   ]
  },
  {
   "cell_type": "code",
   "execution_count": 4,
   "id": "7840f4c6",
   "metadata": {},
   "outputs": [],
   "source": [
    "import sys\n",
    "\n",
    "sys.path.append('..')"
   ]
  },
  {
   "cell_type": "markdown",
   "id": "e95df987",
   "metadata": {},
   "source": [
    "### 1. Primal Problem"
   ]
  },
  {
   "cell_type": "markdown",
   "id": "a508bca0",
   "metadata": {},
   "source": [
    "##### Example #1.1\n",
    "\n",
    "$$\n",
    "\\min -4x_1 - 2x_2, \\quad \\text{subject to} \\quad\n",
    "\\left\\{\n",
    "\\begin{array}{l}\n",
    "x_1 + x_2 + x_3 = 5 \\\\\n",
    "2x_1 + 0.5x_2 + x_4 = 8 \\\\\n",
    "x \\geq 0\n",
    "\\end{array}\n",
    "\\right.\n",
    "$$\n",
    "\n",
    "<br/>\n",
    "\n",
    "$$\n",
    "    A = \\begin{pmatrix}        \n",
    "        1 & 1   & 1 & 0 \\\\\n",
    "        2 & 0.5 & 0 & 1 \\\\\n",
    "    \\end{pmatrix},\n",
    "\n",
    "    b = \\begin{pmatrix} \n",
    "        5 \\\\\n",
    "        8 \\\\\n",
    "    \\end{pmatrix}\n",
    "$$"
   ]
  },
  {
   "cell_type": "code",
   "execution_count": 5,
   "id": "aa026158",
   "metadata": {},
   "outputs": [
    {
     "data": {
      "text/plain": [
       "(array([3.66666667, 1.33333333, 0.        , 0.        ]),\n",
       " np.float64(-17.333333333333332),\n",
       " array([0.75, 0.25, 0.  , 0.  ]),\n",
       " 3,\n",
       " False)"
      ]
     },
     "execution_count": 5,
     "metadata": {},
     "output_type": "execute_result"
    }
   ],
   "source": [
    "import numpy as np\n",
    "from modules.optimize.constrained.linear_programming.simplex_method import primal\n",
    "\n",
    "c = np.array([-4., -2., 0., 0.])\n",
    "\n",
    "A = np.array([\n",
    "    [1.,  1., 1., 0.],\n",
    "    [2., 0.5, 0., 1.]\n",
    "])\n",
    "\n",
    "b = np.array([5., 8.])\n",
    "\n",
    "primal(c, A, b, [2, 3], 100)"
   ]
  },
  {
   "cell_type": "markdown",
   "id": "8c7c06c0",
   "metadata": {},
   "source": [
    "##### Example #1.2\n",
    "\n",
    "$$\n",
    "\\min 3x_1 + x_2 + x_3, \\quad \\text{subject to} \\quad\n",
    "\\left\\{\n",
    "\\begin{array}{l}\n",
    "2x_1 + x_2 + x_3 \\leq 2 \\\\\n",
    "x_1 - x_2 - x_3 \\leq -1 \\\\\n",
    "x \\geq 0\n",
    "\\end{array}\n",
    "\\right.\n",
    "$$\n",
    "\n",
    "<br/>\n",
    "\n",
    "<center>\n",
    "    <h3>Standard form</h3>\n",
    "</center>\n",
    "\n",
    "$$\n",
    "\\min 3x_1 + x_2 + x_3, \\quad \\text{subject to} \\quad\n",
    "\\left\\{\n",
    "\\begin{array}{l}\n",
    "2x_1 + x_2 + x_3 + x_4 = 2 \\\\\n",
    "x_1 - x_2 - x_3 + x_5 = -1 \\\\\n",
    "x \\geq 0\n",
    "\\end{array}\n",
    "\\right.\n",
    "$$\n",
    "\n",
    "<br/>\n",
    "\n",
    "$$\n",
    "    A = \\begin{pmatrix}        \n",
    "        2 & 1  & 1  & 1 & 0 \\\\\n",
    "        1 & -1 & -1 & 0 & 1 \\\\\n",
    "    \\end{pmatrix},\n",
    "\n",
    "    b = \\begin{pmatrix} \n",
    "        2 \\\\\n",
    "        -1 \\\\\n",
    "    \\end{pmatrix}\n",
    "$$\n",
    "\n",
    "<center>\n",
    "    <h3>Phase I</h3>\n",
    "</center>\n",
    "\n",
    "$$\n",
    "\\min z_1, \\quad \\text{subject to} \\quad\n",
    "\\left\\{\n",
    "\\begin{array}{l}\n",
    "2x_1 + x_2 + x_3 + x_4 = 2 \\\\\n",
    "x_1 - x_2 - x_3 + x_5 - z_1 = -1 \\\\\n",
    "x \\geq 0, z \\geq 0\n",
    "\\end{array}\n",
    "\\right.\n",
    "$$\n",
    "\n",
    "<br/>\n",
    "\n",
    "$$\n",
    "    A = \\begin{pmatrix}        \n",
    "        2 & 1  & 1  & 1 & 0 & 0  \\\\\n",
    "        1 & -1 & -1 & 0 & 1 & -1 \\\\\n",
    "    \\end{pmatrix},\n",
    "\n",
    "    b = \\begin{pmatrix} \n",
    "        2 \\\\\n",
    "        -1 \\\\\n",
    "    \\end{pmatrix}\n",
    "$$"
   ]
  },
  {
   "cell_type": "code",
   "execution_count": 6,
   "id": "23988da1",
   "metadata": {},
   "outputs": [
    {
     "data": {
      "text/plain": [
       "(array([0., 1., 0., 1., 0., 0.]),\n",
       " np.float64(0.0),\n",
       " array([0., 1., 0., 1., 0., 0.]),\n",
       " 2,\n",
       " False)"
      ]
     },
     "execution_count": 6,
     "metadata": {},
     "output_type": "execute_result"
    }
   ],
   "source": [
    "c = np.array([0., 0., 0., 0., 0., 1.])\n",
    "\n",
    "A = np.array([\n",
    "    [2.,  1.,  1., 1., 0.,  0.],\n",
    "    [1., -1., -1., 0., 1., -1.]\n",
    "])\n",
    "\n",
    "b = np.array([2., -1.])\n",
    "\n",
    "primal(c, A, b, [3, 5], 100)"
   ]
  },
  {
   "cell_type": "markdown",
   "id": "ba5d0a91",
   "metadata": {},
   "source": [
    "<center>\n",
    "    <h3>\n",
    "        Phase II\n",
    "    </h3>\n",
    "</center>\n",
    "\n",
    "$$\n",
    "\\min 3x_1 + x_2 + x_3, \\quad \\text{subject to} \\quad\n",
    "\\left\\{\n",
    "\\begin{array}{l}\n",
    "2x_1 + x_2 + x_3 + x_4 = 2 \\\\\n",
    "x_1 - x_2 - x_3 + x_5 = -1 \\\\\n",
    "x \\geq 0\n",
    "\\end{array}\n",
    "\\right.\n",
    "$$\n",
    "\n",
    "<br/>\n",
    "\n",
    "$$\n",
    "    A = \\begin{pmatrix}        \n",
    "        2 & 1  & 1  & 1 & 0 \\\\\n",
    "        1 & -1 & -1 & 0 & 1 \\\\\n",
    "    \\end{pmatrix},\n",
    "\n",
    "    b = \\begin{pmatrix} \n",
    "        2 \\\\\n",
    "        -1 \\\\\n",
    "    \\end{pmatrix},\n",
    "\n",
    "    \\{1, 3\\}\n",
    "$$"
   ]
  },
  {
   "cell_type": "code",
   "execution_count": 7,
   "id": "2262446d",
   "metadata": {},
   "outputs": [
    {
     "data": {
      "text/plain": [
       "(array([0., 1., 0., 1., 0.]),\n",
       " np.float64(1.0),\n",
       " array([0., 0., 0., 0., 0.]),\n",
       " 1,\n",
       " False)"
      ]
     },
     "execution_count": 7,
     "metadata": {},
     "output_type": "execute_result"
    }
   ],
   "source": [
    "c = np.array([3., 1., 1., 0., 0.])\n",
    "\n",
    "A = np.array([\n",
    "    [2.,  1.,  1., 1., 0.],\n",
    "    [1., -1., -1., 0., 1.]\n",
    "])\n",
    "\n",
    "b = np.array([2., -1.])\n",
    "\n",
    "primal(c, A, b, [1, 3], 100)"
   ]
  }
 ],
 "metadata": {
  "kernelspec": {
   "display_name": ".venv",
   "language": "python",
   "name": "python3"
  },
  "language_info": {
   "codemirror_mode": {
    "name": "ipython",
    "version": 3
   },
   "file_extension": ".py",
   "mimetype": "text/x-python",
   "name": "python",
   "nbconvert_exporter": "python",
   "pygments_lexer": "ipython3",
   "version": "3.13.4"
  }
 },
 "nbformat": 4,
 "nbformat_minor": 5
}
