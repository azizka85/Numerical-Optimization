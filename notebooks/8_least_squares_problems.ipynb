{
 "cells": [
  {
   "cell_type": "markdown",
   "id": "9a3e6a3c",
   "metadata": {},
   "source": [
    "# Least-Squares Problems"
   ]
  },
  {
   "cell_type": "markdown",
   "id": "db588fce",
   "metadata": {},
   "source": [
    "$$ \\min_{x \\in \\mathbb{R}^n} \\; F(x) = \\frac{1}{2} \\sum_{i=1}^m \\left[ r_i(x) \\right]^2 $$"
   ]
  },
  {
   "cell_type": "code",
   "execution_count": 4,
   "id": "da70d1b8",
   "metadata": {},
   "outputs": [
    {
     "name": "stdout",
     "output_type": "stream",
     "text": [
      "Optimal x: [1. 1.]\n",
      "Cost: 0.0\n",
      "Residuals: [0. 0.]\n"
     ]
    }
   ],
   "source": [
    "import numpy as np\n",
    "from scipy.optimize import least_squares\n",
    "\n",
    "def residuals(x: np.ndarray[np.double]) -> np.ndarray[np.double]:\n",
    "    return np.array([\n",
    "        10 * (x[1] - x[0]**2),      \n",
    "        1 - x[0]\n",
    "    ])\n",
    "\n",
    "x0 = np.array([2.0, 2.0])\n",
    "\n",
    "res = least_squares(residuals, x0, method='lm', ftol=10**-9)\n",
    "\n",
    "print(\"Optimal x:\", res.x)\n",
    "print(\"Cost:\", res.cost)  \n",
    "print(\"Residuals:\", res.fun)"
   ]
  }
 ],
 "metadata": {
  "kernelspec": {
   "display_name": ".venv",
   "language": "python",
   "name": "python3"
  },
  "language_info": {
   "codemirror_mode": {
    "name": "ipython",
    "version": 3
   },
   "file_extension": ".py",
   "mimetype": "text/x-python",
   "name": "python",
   "nbconvert_exporter": "python",
   "pygments_lexer": "ipython3",
   "version": "3.13.4"
  }
 },
 "nbformat": 4,
 "nbformat_minor": 5
}
