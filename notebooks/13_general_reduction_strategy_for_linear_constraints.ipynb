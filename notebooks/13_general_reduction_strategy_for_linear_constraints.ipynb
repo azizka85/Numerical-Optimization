{
 "cells": [
  {
   "cell_type": "markdown",
   "id": "bc638b45",
   "metadata": {},
   "source": [
    "# General Reduction Strategies for Linear Constraints"
   ]
  },
  {
   "cell_type": "markdown",
   "id": "7191c878",
   "metadata": {},
   "source": [
    "##### Example #1\n",
    "\n",
    "$$\n",
    "\\min -4x_1 - 2x_2, \\quad \\text{subject to} \\quad\n",
    "\\left\\{\n",
    "\\begin{array}{l}\n",
    "x_1 + x_2 + x_3 = 5 \\\\\n",
    "2x_1 + 0.5x_2 + x_4 = 8 \\\\\n",
    "x \\geq 0\n",
    "\\end{array}\n",
    "\\right.\n",
    "$$\n",
    "\n",
    "<br/>\n",
    "\n",
    "$$\n",
    "    A = \\begin{pmatrix}        \n",
    "        1 & 1   & 1 & 0 \\\\\n",
    "        2 & 0.5 & 0 & 1 \\\\\n",
    "    \\end{pmatrix},\n",
    "\n",
    "    b = \\begin{pmatrix} \n",
    "        5 \\\\\n",
    "        8 \\\\\n",
    "    \\end{pmatrix}\n",
    "$$"
   ]
  },
  {
   "cell_type": "code",
   "execution_count": 18,
   "id": "03442d26",
   "metadata": {},
   "outputs": [
    {
     "name": "stdout",
     "output_type": "stream",
     "text": [
      "AQ: [[-1.73205081e+00  1.11022302e-16]\n",
      " [-1.44337567e+00  1.77951304e+00]]\n",
      "R^T: [[-1.73205081  0.        ]\n",
      " [-1.44337567  1.77951304]]\n",
      "xb: [3.07894737 1.26315789 0.65789474 1.21052632]\n",
      "A*xb: [5. 8.]\n",
      "c^T*x: -14.842105263157897\n"
     ]
    }
   ],
   "source": [
    "import numpy as np\n",
    "\n",
    "c = np.array([-4., -2., 0., 0.])\n",
    "\n",
    "A = np.array([\n",
    "    [1.,  1., 1., 0.],\n",
    "    [2., 0.5, 0., 1.]\n",
    "])\n",
    "\n",
    "b = np.array([5., 8.])\n",
    "\n",
    "Q, R = np.linalg.qr(A.T)\n",
    "xb = Q @ np.linalg.inv(R.T) @ b\n",
    "\n",
    "print(\"AQ:\", A @ Q)\n",
    "print(\"R^T:\", R.T)\n",
    "print(\"xb:\", xb)\n",
    "print(\"A*xb:\", A @ xb)\n",
    "print(\"c^T*x:\", np.dot(c, xb))"
   ]
  },
  {
   "cell_type": "markdown",
   "id": "e618314b",
   "metadata": {},
   "source": [
    "##### Example #2\n",
    "\n",
    "$$\n",
    "\\min 3x_1 + x_2 + x_3, \\quad \\text{subject to} \\quad\n",
    "\\left\\{\n",
    "\\begin{array}{l}\n",
    "2x_1 + x_2 + x_3 \\leq 2 \\\\\n",
    "x_1 - x_2 - x_3 \\leq -1 \\\\\n",
    "x \\geq 0\n",
    "\\end{array}\n",
    "\\right.\n",
    "$$\n",
    "\n",
    "<br/>\n",
    "\n",
    "<center>\n",
    "    <h3>Standard form</h3>\n",
    "</center>\n",
    "\n",
    "$$\n",
    "\\min 3x_1 + x_2 + x_3, \\quad \\text{subject to} \\quad\n",
    "\\left\\{\n",
    "\\begin{array}{l}\n",
    "2x_1 + x_2 + x_3 + x_4 = 2 \\\\\n",
    "x_1 - x_2 - x_3 + x_5 = -1 \\\\\n",
    "x \\geq 0\n",
    "\\end{array}\n",
    "\\right.\n",
    "$$\n",
    "\n",
    "<br/>\n",
    "\n",
    "$$\n",
    "    A = \\begin{pmatrix}        \n",
    "        2 & 1  & 1  & 1 & 0 \\\\\n",
    "        1 & -1 & -1 & 0 & 1 \\\\\n",
    "    \\end{pmatrix},\n",
    "\n",
    "    b = \\begin{pmatrix} \n",
    "        2 \\\\\n",
    "        -1 \\\\\n",
    "    \\end{pmatrix}\n",
    "$$"
   ]
  },
  {
   "cell_type": "code",
   "execution_count": 19,
   "id": "311d273f",
   "metadata": {},
   "outputs": [
    {
     "name": "stdout",
     "output_type": "stream",
     "text": [
      "AQ: [[-2.64575131e+00 -2.35922393e-16]\n",
      " [ 0.00000000e+00  2.00000000e+00]]\n",
      "R^T: [[-2.64575131e+00  0.00000000e+00]\n",
      " [ 2.22044605e-16  2.00000000e+00]]\n",
      "xb: [ 0.32142857  0.53571429  0.53571429  0.28571429 -0.25      ]\n",
      "A*xb: [ 2. -1.]\n",
      "c^T*x: 2.035714285714285\n"
     ]
    }
   ],
   "source": [
    "c = np.array([3., 1., 1., 0., 0.])\n",
    "\n",
    "A = np.array([\n",
    "    [2.,  1.,  1., 1., 0.],\n",
    "    [1., -1., -1., 0., 1.]\n",
    "])\n",
    "\n",
    "b = np.array([2., -1.])\n",
    "\n",
    "Q, R = np.linalg.qr(A.T)\n",
    "xb = Q @ np.linalg.inv(R.T) @ b\n",
    "\n",
    "print(\"AQ:\", A @ Q)\n",
    "print(\"R^T:\", R.T)\n",
    "print(\"xb:\", xb)\n",
    "print(\"A*xb:\", A @ xb)\n",
    "print(\"c^T*x:\", np.dot(c, xb))"
   ]
  }
 ],
 "metadata": {
  "kernelspec": {
   "display_name": ".venv",
   "language": "python",
   "name": "python3"
  },
  "language_info": {
   "codemirror_mode": {
    "name": "ipython",
    "version": 3
   },
   "file_extension": ".py",
   "mimetype": "text/x-python",
   "name": "python",
   "nbconvert_exporter": "python",
   "pygments_lexer": "ipython3",
   "version": "3.13.4"
  }
 },
 "nbformat": 4,
 "nbformat_minor": 5
}
