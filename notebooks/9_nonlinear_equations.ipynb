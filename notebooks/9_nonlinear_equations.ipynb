{
 "cells": [
  {
   "cell_type": "markdown",
   "id": "e26cd420",
   "metadata": {},
   "source": [
    "# Nonlinear Equations\n",
    "\n",
    "$$F(x) = 0$$"
   ]
  },
  {
   "cell_type": "code",
   "execution_count": 10,
   "id": "ce69f718",
   "metadata": {},
   "outputs": [
    {
     "name": "stdout",
     "output_type": "stream",
     "text": [
      "Solution: [1.41421356 1.41421356]\n",
      "f(x): [np.float64(-1.1641354547009541e-11), np.float64(-1.0427436691884395e-11)]\n",
      "Number of iterations: 13\n",
      "Success: True\n"
     ]
    }
   ],
   "source": [
    "from scipy.optimize import root\n",
    "import numpy as np\n",
    "\n",
    "def f(x: np.ndarray[np.double]) -> np.ndarray[np.double]:\n",
    "    return [\n",
    "        x[0]**2 + x[1]**2 - 4,\n",
    "        x[0] - x[1]\n",
    "    ]\n",
    "\n",
    "def df(x: np.ndarray[np.double]) -> np.ndarray[np.ndarray[np.double]]:\n",
    "    return [\n",
    "        [2*x[0], 2*x[1]],\n",
    "        [1, -1]\n",
    "    ]\n",
    "\n",
    "x0 = [1, 1]\n",
    "res = root(f, x0, method='broyden1', tol=10**-9)\n",
    "\n",
    "print(\"Solution:\", res.x)\n",
    "print(\"f(x):\", f(res.x))\n",
    "print(\"Number of iterations:\", res.nit)\n",
    "print(\"Success:\", res.success)"
   ]
  }
 ],
 "metadata": {
  "kernelspec": {
   "display_name": ".venv",
   "language": "python",
   "name": "python3"
  },
  "language_info": {
   "codemirror_mode": {
    "name": "ipython",
    "version": 3
   },
   "file_extension": ".py",
   "mimetype": "text/x-python",
   "name": "python",
   "nbconvert_exporter": "python",
   "pygments_lexer": "ipython3",
   "version": "3.13.4"
  }
 },
 "nbformat": 4,
 "nbformat_minor": 5
}
