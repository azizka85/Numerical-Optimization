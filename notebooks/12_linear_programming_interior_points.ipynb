{
 "cells": [
  {
   "cell_type": "markdown",
   "id": "62f0b6f8",
   "metadata": {},
   "source": [
    "# Linear Programming: Interior Points"
   ]
  },
  {
   "cell_type": "code",
   "execution_count": 3,
   "id": "47eea61a",
   "metadata": {},
   "outputs": [],
   "source": [
    "import sys\n",
    "\n",
    "sys.path.append('..')"
   ]
  },
  {
   "cell_type": "markdown",
   "id": "18b570f6",
   "metadata": {},
   "source": [
    "##### Example #1\n",
    "\n",
    "$$\n",
    "\\min -4x_1 - 2x_2, \\quad \\text{subject to} \\quad\n",
    "\\left\\{\n",
    "\\begin{array}{l}\n",
    "x_1 + x_2 + x_3 = 5 \\\\\n",
    "2x_1 + 0.5x_2 + x_4 = 8 \\\\\n",
    "x \\geq 0\n",
    "\\end{array}\n",
    "\\right.\n",
    "$$\n",
    "\n",
    "<br/>\n",
    "\n",
    "$$\n",
    "    A = \\begin{pmatrix}        \n",
    "        1 & 1   & 1 & 0 \\\\\n",
    "        2 & 0.5 & 0 & 1 \\\\\n",
    "    \\end{pmatrix},\n",
    "\n",
    "    b = \\begin{pmatrix} \n",
    "        5 \\\\\n",
    "        8 \\\\\n",
    "    \\end{pmatrix}\n",
    "$$"
   ]
  },
  {
   "cell_type": "code",
   "execution_count": 4,
   "id": "aac67978",
   "metadata": {},
   "outputs": [
    {
     "name": "stdout",
     "output_type": "stream",
     "text": [
      "Solution: [3.66666667e+00 1.33333333e+00 2.16384885e-10 4.43103184e-10]\n",
      "Objective function: -17.333333332454018\n",
      "Number of iterations: 11\n"
     ]
    }
   ],
   "source": [
    "import numpy as np\n",
    "from modules.optimize.constrained.linear_programming.interior_points import interior_points\n",
    "\n",
    "c = np.array([-4., -2., 0., 0.])\n",
    "\n",
    "A = np.array([\n",
    "    [1.,  1., 1., 0.],\n",
    "    [2., 0.5, 0., 1.]\n",
    "])\n",
    "\n",
    "b = np.array([5., 8.])\n",
    "\n",
    "x, _, _, obj, iter = interior_points(c, A, b, 10**-9, 100)\n",
    "\n",
    "print(f'Solution: {x}')\n",
    "print(f'Objective function: {obj}')\n",
    "print(f'Number of iterations: {iter}')"
   ]
  },
  {
   "cell_type": "markdown",
   "id": "1d648cc2",
   "metadata": {},
   "source": [
    "##### Example #2\n",
    "\n",
    "$$\n",
    "\\min 3x_1 + x_2 + x_3, \\quad \\text{subject to} \\quad\n",
    "\\left\\{\n",
    "\\begin{array}{l}\n",
    "2x_1 + x_2 + x_3 \\leq 2 \\\\\n",
    "x_1 - x_2 - x_3 \\leq -1 \\\\\n",
    "x \\geq 0\n",
    "\\end{array}\n",
    "\\right.\n",
    "$$\n",
    "\n",
    "<br/>\n",
    "\n",
    "<center>\n",
    "    <h3>Standard form</h3>\n",
    "</center>\n",
    "\n",
    "$$\n",
    "\\min 3x_1 + x_2 + x_3, \\quad \\text{subject to} \\quad\n",
    "\\left\\{\n",
    "\\begin{array}{l}\n",
    "2x_1 + x_2 + x_3 + x_4 = 2 \\\\\n",
    "x_1 - x_2 - x_3 + x_5 = -1 \\\\\n",
    "x \\geq 0\n",
    "\\end{array}\n",
    "\\right.\n",
    "$$\n",
    "\n",
    "<br/>\n",
    "\n",
    "$$\n",
    "    A = \\begin{pmatrix}        \n",
    "        2 & 1  & 1  & 1 & 0 \\\\\n",
    "        1 & -1 & -1 & 0 & 1 \\\\\n",
    "    \\end{pmatrix},\n",
    "\n",
    "    b = \\begin{pmatrix} \n",
    "        2 \\\\\n",
    "        -1 \\\\\n",
    "    \\end{pmatrix}\n",
    "$$"
   ]
  },
  {
   "cell_type": "code",
   "execution_count": 5,
   "id": "d8a6df7e",
   "metadata": {},
   "outputs": [
    {
     "name": "stdout",
     "output_type": "stream",
     "text": [
      "Solution: [2.42422030e-10 5.00000000e-01 5.00000000e-01 1.00000000e+00\n",
      " 4.25798016e-10]\n",
      "Objective function: 1.0000000013954864\n",
      "Number of iterations: 11\n"
     ]
    }
   ],
   "source": [
    "c = np.array([3., 1., 1., 0., 0.])\n",
    "\n",
    "A = np.array([\n",
    "    [2.,  1.,  1., 1., 0.],\n",
    "    [1., -1., -1., 0., 1.]\n",
    "])\n",
    "\n",
    "b = np.array([2., -1.])\n",
    "\n",
    "x, _, _, obj, iter = interior_points(c, A, b, 10**-9, 100)\n",
    "\n",
    "print(f'Solution: {x}')\n",
    "print(f'Objective function: {obj}')\n",
    "print(f'Number of iterations: {iter}')"
   ]
  }
 ],
 "metadata": {
  "kernelspec": {
   "display_name": ".venv",
   "language": "python",
   "name": "python3"
  },
  "language_info": {
   "codemirror_mode": {
    "name": "ipython",
    "version": 3
   },
   "file_extension": ".py",
   "mimetype": "text/x-python",
   "name": "python",
   "nbconvert_exporter": "python",
   "pygments_lexer": "ipython3",
   "version": "3.13.4"
  }
 },
 "nbformat": 4,
 "nbformat_minor": 5
}
